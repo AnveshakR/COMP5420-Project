{
 "cells": [
  {
   "cell_type": "code",
   "execution_count": 2,
   "metadata": {},
   "outputs": [],
   "source": [
    "import pandas as pd"
   ]
  },
  {
   "cell_type": "code",
   "execution_count": 8,
   "metadata": {},
   "outputs": [],
   "source": [
    "sb51_file = \"C1/Merged+Labeled/SBLI_merged_labeled.csv\"\n",
    "sb56_file = \"C1/Merged+Labeled/SBLVI_merged_labeled.csv\"\n",
    "sb47_file = \"C2/Merged+Labeled/SB47_merged_labeled.csv\"\n",
    "sb52_file = \"C2/Merged+Labeled/SB52_merged_labeled.csv\"\n",
    "sb57_file = \"C2/Merged+Labeled/SB57_merged_labeled.csv\"\n",
    "sb53_file = \"C3/Merged+Labeled/SB53_merged_labeled.csv\"\n",
    "sb54_file = \"C3/Merged+Labeled/SBLIV_merged_labeled.csv\"\n",
    "sb48_file = \"C4/Merged+Labeled/SB48_merged_labeled.csv\"\n",
    "sb50_file = \"C4/Merged+Labeled/SB50_merged_labeled.csv\"\n",
    "sb55_file = \"C4/Merged+Labeled/SBLV_merged_labeled.csv\"\n",
    "\n",
    "sb51_context = \"Patriots 34 - 28 Falcons (OT) - 2017 Super Bowl MVP: Tom Brady\"\n",
    "sb56_context = \"Rams 23 - 20 Bengals - 2021 Super Bowl MVP: Cooper Kupp\"\n",
    "sb47_context = \"Ravens 34 - 31 49ers - 2013 Super Bowl MVP: Joe Flacco\"\n",
    "sb52_context = \"Eagles 41 - 33 Patriots - 2018 Super Bowl MVP: Nick Foles\"\n",
    "sb57_context = \"Chiefs 38 - 35 Buccaneers - 2022 Super Bowl MVP: Patrick Mahomes\"\n",
    "sb53_context = \"Patriots 13 - 3 Rams - 2019 Super Bowl MVP: Julian Edelman\"\n",
    "sb54_context = \"Chiefs 31 - 20 49ers - 2020 Super Bowl MVP: Patrick Mahomes\"\n",
    "sb48_context = \"Seahawks 43 - 8 Broncos - 2014 Super Bowl MVP: Malcolm Smith\"\n",
    "sb50_context = \"Broncos 24 - 10 Panthers - 2016 Super Bowl MVP: Von Miller\"\n",
    "sb55_context = \"Buccaneers 31 - 9 Chiefs - 2020 Super Bowl MVP: Tom Brady\" "
   ]
  },
  {
   "cell_type": "code",
   "execution_count": 9,
   "metadata": {},
   "outputs": [],
   "source": [
    "merged_csv = \"merged.csv\"\n",
    "\n",
    "sb51_df = pd.read_csv(sb51_file)\n",
    "sb56_df = pd.read_csv(sb56_file)\n",
    "sb47_df = pd.read_csv(sb47_file)\n",
    "sb52_df = pd.read_csv(sb52_file)\n",
    "sb57_df = pd.read_csv(sb57_file)\n",
    "sb53_df = pd.read_csv(sb53_file)\n",
    "sb54_df = pd.read_csv(sb54_file)\n",
    "sb48_df = pd.read_csv(sb48_file)\n",
    "sb50_df = pd.read_csv(sb50_file)\n",
    "sb55_df = pd.read_csv(sb55_file)\n",
    "\n",
    "sb51_df[\"context\"] = sb51_context\n",
    "sb56_df[\"context\"] = sb56_context\n",
    "sb47_df[\"context\"] = sb47_context\n",
    "sb52_df[\"context\"] = sb52_context\n",
    "sb57_df[\"context\"] = sb57_context\n",
    "sb53_df[\"context\"] = sb53_context\n",
    "sb54_df[\"context\"] = sb54_context\n",
    "sb48_df[\"context\"] = sb48_context\n",
    "sb50_df[\"context\"] = sb50_context\n",
    "sb55_df[\"context\"] = sb55_context\n",
    "\n",
    "merged_df = pd.concat([sb51_df, sb56_df, sb47_df, sb52_df, sb57_df, sb53_df, sb54_df, sb48_df, sb50_df, sb55_df])\n",
    "merged_df.to_csv(merged_csv, index=False)"
   ]
  },
  {
   "cell_type": "code",
   "execution_count": 10,
   "metadata": {},
   "outputs": [
    {
     "data": {
      "text/plain": [
       "62712"
      ]
     },
     "execution_count": 10,
     "metadata": {},
     "output_type": "execute_result"
    }
   ],
   "source": [
    "len(merged_df)"
   ]
  }
 ],
 "metadata": {
  "kernelspec": {
   "display_name": "condanlp",
   "language": "python",
   "name": "python3"
  },
  "language_info": {
   "codemirror_mode": {
    "name": "ipython",
    "version": 3
   },
   "file_extension": ".py",
   "mimetype": "text/x-python",
   "name": "python",
   "nbconvert_exporter": "python",
   "pygments_lexer": "ipython3",
   "version": "3.11.5"
  }
 },
 "nbformat": 4,
 "nbformat_minor": 2
}
