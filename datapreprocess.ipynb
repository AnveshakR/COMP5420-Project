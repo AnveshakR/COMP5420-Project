{
  "nbformat": 4,
  "nbformat_minor": 0,
  "metadata": {
    "colab": {
      "provenance": []
    },
    "kernelspec": {
      "name": "python3",
      "display_name": "Python 3"
    },
    "language_info": {
      "name": "python"
    }
  },
  "cells": [
    {
      "cell_type": "code",
      "source": [
        "#import necessary libraries\n",
        "import pandas as pd\n",
        "import numpy as np"
      ],
      "metadata": {
        "id": "ZgtyItB5TbzP"
      },
      "execution_count": 2,
      "outputs": []
    },
    {
      "cell_type": "code",
      "source": [
        "#Code for merging files for single game\n",
        "#loading in csvs and\n",
        "\n",
        "file1 = pd.read_csv('content2/Superbowl_47_PRE.csv')\n",
        "file2 = pd.read_csv('content2/Superbowl_47_POST.csv')\n",
        "file3 = pd.read_csv('content2/Superbowl_47_SECONDHALF.csv')\n",
        "file4 = pd.read_csv('content2/Superbowl_47_FIRSTHALF.csv')\n",
        "\n",
        "#file1['sport'] = 'Soccer'\n",
        "#file1['sport'] = file2['sport'] = 'Football'\n",
        "#file1['sport'] = file2['sport'] = file3['sport'] = 'Football'\n",
        "file1['sport'] = file2['sport'] = file3['sport'] = file4['sport'] = 'Football'\n",
        "\n",
        "#phases 1 = PRE, 2 = DURING, 3 = POST\n",
        "file1['phase'] = '1'\n",
        "file2['phase'] = '3'\n",
        "file3['phase'] = '2'\n",
        "file4['phase'] = '2'\n",
        "\n",
        "#merged= file1\n",
        "#merged = pd.concat([file1,file2],ignore_index=True)\n",
        "#merged = pd.concat([file1,file2,file3],ignore_index=True)\n",
        "merged = pd.concat([file1,file2,file3,file4],ignore_index=True)\n",
        "\n",
        "merged_path = \"content2/SB47_merged.csv\"\n",
        "merged.to_csv(merged_path, index=False)\n",
        "\n"
      ],
      "metadata": {
        "id": "lUf4042h3n2N"
      },
      "execution_count": 72,
      "outputs": []
    },
    {
      "cell_type": "code",
      "source": [
        "#adding category label to data\n",
        "fav = 'Liverpool'\n",
        "underdog = 'Real_Madrid'\n",
        "\n",
        "dfmerged = pd.read_csv('content2/UEFA_F2022_merged.csv')\n",
        "dfmerged['category'] = 'N/A'\n",
        "# key for category:\n",
        "# 1 is the fav team winning a close match\n",
        "# 2 is the fav team winning a one-sided match\n",
        "# 3 is the underdog team winning a close match\n",
        "# 4 is the underdog team winning a one-sided match\n",
        "# F means they are the favored team, U means underdog team, N means neutral (unrelated)\n",
        "# values will be 1F, 1U, 2F, 2U, 3F, 3U, 4F, 4U, and N\n",
        "for ind in dfmerged.index:\n",
        "    flair = str(dfmerged['flair'][ind])\n",
        "    if fav in flair:\n",
        "      dfmerged['category'][ind] = '2F'\n",
        "    elif underdog in flair:\n",
        "      dfmerged['category'][ind] = '2U'\n",
        "    else:\n",
        "      dfmerged['category'][ind] = 'N'\n",
        "\n",
        "merged_path = \"content2/UEFA_F2022_merged_labeled.csv\"\n",
        "dfmerged.to_csv(merged_path, index=False)"
      ],
      "metadata": {
        "colab": {
          "base_uri": "https://localhost:8080/"
        },
        "id": "_HCSZp8tHxTJ",
        "outputId": "9052ad09-8cc2-4bf6-8f40-b78d22e8fca9"
      },
      "execution_count": 78,
      "outputs": [
        {
          "output_type": "stream",
          "name": "stderr",
          "text": [
            "<ipython-input-78-a82bad0f957c>:21: SettingWithCopyWarning: \n",
            "A value is trying to be set on a copy of a slice from a DataFrame\n",
            "\n",
            "See the caveats in the documentation: https://pandas.pydata.org/pandas-docs/stable/user_guide/indexing.html#returning-a-view-versus-a-copy\n",
            "  dfmerged['category'][ind] = 'N'\n",
            "<ipython-input-78-a82bad0f957c>:17: SettingWithCopyWarning: \n",
            "A value is trying to be set on a copy of a slice from a DataFrame\n",
            "\n",
            "See the caveats in the documentation: https://pandas.pydata.org/pandas-docs/stable/user_guide/indexing.html#returning-a-view-versus-a-copy\n",
            "  dfmerged['category'][ind] = '2F'\n",
            "<ipython-input-78-a82bad0f957c>:19: SettingWithCopyWarning: \n",
            "A value is trying to be set on a copy of a slice from a DataFrame\n",
            "\n",
            "See the caveats in the documentation: https://pandas.pydata.org/pandas-docs/stable/user_guide/indexing.html#returning-a-view-versus-a-copy\n",
            "  dfmerged['category'][ind] = '2U'\n"
          ]
        }
      ]
    },
    {
      "cell_type": "code",
      "source": [
        "#merging files for a single category\n",
        "file1 = pd.read_csv('content2/SB47_merged_labeled.csv')\n",
        "file2 = pd.read_csv('content2/SB52_merged_labeled.csv')\n",
        "file3 = pd.read_csv('content2/SB57_merged_labeled.csv')\n",
        "file4 = pd.read_csv('content2/UEFA_F2021_merged_labeled.csv')\n",
        "file5 = pd.read_csv('content2/UEFA_F2022_merged_labeled.csv')\n",
        "#file6 = pd.read_csv('content4/UEFA_KReMavsAjax_merged_labeled.csv')\n",
        "\n",
        "merged = pd.concat([file1,file2,file3,file4, file5],ignore_index=True)\n",
        "\n",
        "merged_path = \"content2/C2_merged.csv\"\n",
        "merged.to_csv(merged_path, index=False)\n"
      ],
      "metadata": {
        "id": "DJ0sBs9umQmn"
      },
      "execution_count": 79,
      "outputs": []
    },
    {
      "cell_type": "code",
      "source": [
        "#merging all category files\n",
        "file1 = pd.read_csv('C1_merged.csv')\n",
        "file2 = pd.read_csv('content2/C2_merged.csv')\n",
        "file3 = pd.read_csv('content3/C3_merged.csv')\n",
        "file4 = pd.read_csv('content4/C4_merged.csv')\n",
        "\n",
        "merged = pd.concat([file1,file2,file3,file4],ignore_index=True)\n",
        "\n",
        "merged_path = \"SportSentiment_merged.csv\"\n",
        "merged.to_csv(merged_path, index=False)\n"
      ],
      "metadata": {
        "id": "xrRS7WOAmSgH"
      },
      "execution_count": 81,
      "outputs": []
    },
    {
      "cell_type": "code",
      "source": [
        "#additional code to shuffle rows of merged data\n",
        "merged = pd.read_csv('SportSentiment_merged.csv')\n",
        "\n",
        "merged = merged.sample(frac=1)\n",
        "\n",
        "merged_path = \"SportSentiment_merged_rand.csv\"\n",
        "merged.to_csv(merged_path, index=False)"
      ],
      "metadata": {
        "id": "MFGzuMzqJ-G2"
      },
      "execution_count": 82,
      "outputs": []
    }
  ]
}